{
 "cells": [
  {
   "cell_type": "code",
   "execution_count": 1,
   "metadata": {},
   "outputs": [],
   "source": [
    "import numpy as np\n",
    "import matplotlib.pyplot as plt\n",
    "import glob as g\n",
    "import pandas as pd"
   ]
  },
  {
   "cell_type": "code",
   "execution_count": 15,
   "metadata": {},
   "outputs": [
    {
     "name": "stdout",
     "output_type": "stream",
     "text": [
      "TROP_CO2.csv\n"
     ]
    }
   ],
   "source": [
    "input = sorted(g.glob('*_CO2.csv'))\n",
    "print(input[4])"
   ]
  },
  {
   "cell_type": "code",
   "execution_count": 17,
   "metadata": {},
   "outputs": [],
   "source": [
    "def isostrat_maker(file, num):\n",
    "    dat = pd.read_csv(file[num], sep=' ', header=None)\n",
    "    temp = np.copy(dat[3])\n",
    "    for i in range(1,len(temp)):\n",
    "        if temp[i-1]>temp[i] and temp[i]<=temp[i+1]:\n",
    "            ind = i\n",
    "            break\n",
    "    temp[ind+1:] = np.repeat(temp[0], len(temp)-ind-1)\n",
    "    dat[3] = temp\n",
    "    dat.to_csv(file[num][:-4]+'_isostrat.csv', sep=' ', header=None, index=None)\n",
    "    print(dat)\n",
    "    return None\n"
   ]
  },
  {
   "cell_type": "code",
   "execution_count": 19,
   "metadata": {},
   "outputs": [
    {
     "name": "stdout",
     "output_type": "stream",
     "text": [
      "     0      1            2      3      4\n",
      "0    0    0.0  1013.000000  299.7  330.0\n",
      "1    1    1.0   904.000000  293.7  330.0\n",
      "2    2    2.0   805.000000  287.7  330.0\n",
      "3    3    3.0   715.000000  283.7  330.0\n",
      "4    4    4.0   633.000000  277.0  330.0\n",
      "5    5    5.0   559.000000  270.3  330.0\n",
      "6    6    6.0   492.000000  263.6  330.0\n",
      "7    7    7.0   432.000000  257.0  330.0\n",
      "8    8    8.0   378.000000  250.3  330.0\n",
      "9    9    9.0   329.000000  243.6  330.0\n",
      "10  10   10.0   286.000000  237.0  330.0\n",
      "11  11   11.0   247.000000  230.1  330.0\n",
      "12  12   12.0   213.000000  223.6  330.0\n",
      "13  13   13.0   182.000000  217.0  330.0\n",
      "14  14   14.0   156.000000  210.3  330.0\n",
      "15  15   15.0   132.000000  203.7  330.0\n",
      "16  16   16.0   111.000000  197.0  330.0\n",
      "17  17   17.0    93.700000  194.8  330.0\n",
      "18  18   18.0    78.900000  299.7  330.0\n",
      "19  19   19.0    66.600000  299.7  330.0\n",
      "20  20   20.0    56.500000  299.7  330.0\n",
      "21  21   21.0    48.000000  299.7  330.0\n",
      "22  22   22.0    40.900000  299.7  330.0\n",
      "23  23   23.0    35.000000  299.7  330.0\n",
      "24  24   24.0    30.000000  299.7  330.0\n",
      "25  25   25.0    25.700000  299.7  330.0\n",
      "26  26   27.5    17.630000  299.7  330.0\n",
      "27  27   30.0    12.200000  299.7  330.0\n",
      "28  28   32.5     8.520000  299.7  330.0\n",
      "29  29   35.0     6.000000  299.7  330.0\n",
      "30  30   37.5     4.260000  299.7  330.0\n",
      "31  31   40.0     3.050000  299.7  330.0\n",
      "32  32   42.5     2.200000  299.7  330.0\n",
      "33  33   45.0     1.590000  299.7  330.0\n",
      "34  34   47.5     1.160000  299.7  330.0\n",
      "35  35   50.0     0.854000  299.7  330.0\n",
      "36  36   55.0     0.456000  299.7  330.0\n",
      "37  37   60.0     0.239000  299.7  330.0\n",
      "38  38   65.0     0.121000  299.7  330.0\n",
      "39  39   70.0     0.058000  299.7  330.0\n",
      "40  40   75.0     0.026000  299.7  330.0\n",
      "41  41   80.0     0.011000  299.7  328.0\n",
      "42  42   85.0     0.004400  299.7  320.0\n",
      "43  43   90.0     0.001720  299.7  310.0\n",
      "44  44   95.0     0.000688  299.7  270.0\n",
      "45  45  100.0     0.000289  299.7  195.0\n",
      "46  46  105.0     0.000130  299.7  110.0\n",
      "47  47  110.0     0.000065  299.7   60.0\n",
      "48  48  115.0     0.000036  299.7   40.0\n",
      "49  49  120.0     0.000023  299.7   35.0\n"
     ]
    }
   ],
   "source": [
    "isostrat_maker(input, 4)"
   ]
  }
 ],
 "metadata": {
  "kernelspec": {
   "display_name": "Python 3",
   "language": "python",
   "name": "python3"
  },
  "language_info": {
   "codemirror_mode": {
    "name": "ipython",
    "version": 3
   },
   "file_extension": ".py",
   "mimetype": "text/x-python",
   "name": "python",
   "nbconvert_exporter": "python",
   "pygments_lexer": "ipython3",
   "version": "3.9.18"
  }
 },
 "nbformat": 4,
 "nbformat_minor": 2
}
